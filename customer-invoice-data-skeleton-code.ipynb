{
  "nbformat": 4,
  "nbformat_minor": 0,
  "metadata": {
    "colab": {
      "provenance": [],
      "include_colab_link": true
    },
    "kernelspec": {
      "name": "python3",
      "display_name": "Python 3"
    },
    "language_info": {
      "name": "python"
    }
  },
  "cells": [
    {
      "cell_type": "markdown",
      "metadata": {
        "id": "view-in-github",
        "colab_type": "text"
      },
      "source": [
        "<a href=\"https://colab.research.google.com/gist/Thor-Codingson/a8d77461c29dd9db0507893ab40d857b/customer-invoice-data-skeleton-code.ipynb\" target=\"_parent\"><img src=\"https://colab.research.google.com/assets/colab-badge.svg\" alt=\"Open In Colab\"/></a>"
      ]
    },
    {
      "cell_type": "markdown",
      "source": [
        "Skeleton Code Part 1"
      ],
      "metadata": {
        "id": "jFHf41SVEurh"
      }
    },
    {
      "cell_type": "code",
      "source": [
        "import pandas as pd\n",
        "from sklearn.preprocessing import StandardScaler\n",
        "from sklearn.cluster import KMeans\n",
        "\n",
        "# URL of the dataset\n",
        "data_url = 'https://archive.ics.uci.edu/ml/machine-learning-databases/00352/Online%20Retail.xlsx'\n",
        "\n",
        "# TASK 1: Load the data into a DataFrame. Provide the correct method and arguments.\n",
        "df = # YOUR CODE HERE\n",
        "\n",
        "# TASK 2: Convert 'InvoiceDate' to datetime format.\n",
        "df['InvoiceDate'] = # YOUR CODE HERE\n",
        "\n",
        "# TASK 3: Calculate the total bill for each transaction.\n",
        "df['Total_Bill'] = # YOUR CODE HERE\n",
        "\n",
        "\n",
        "\n",
        "\n",
        "\n",
        "\n",
        "\n",
        "# Aggregate data at the customer level\n",
        "customer_df = df.groupby('CustomerID').agg(\n",
        "    Total_Bill_Size=('Total_Bill', 'sum'),\n",
        "    First_Purchase=('InvoiceDate', 'min'),\n",
        "    Last_Purchase=('InvoiceDate', 'max'),\n",
        "    Most_Common_Location=('Country', lambda x: x.mode()[0]),\n",
        "    Top_Item=('StockCode', lambda x: x.value_counts().idxmax())\n",
        ")\n",
        "\n",
        "# TASK 4: Calculate the purchase interval in days.\n",
        "customer_df['Purchase_Interval_Days'] = # YOUR CODE HERE\n",
        "\n",
        "\n",
        "\n",
        "\n",
        "# Standardize the 'Total_Bill_Size' feature\n",
        "scaler = StandardScaler()\n",
        "customer_df['Total_Bill_Size_Scaled'] = scaler.fit_transform(customer_df[['Total_Bill_Size']])\n",
        "\n",
        "# TASK 5: Implement K-Means clustering.\n",
        "#Choose an appropriate number of clusters and set a random state for reproducibility.\n",
        "# Perform K-Means clustering\n",
        "kmeans =\n",
        "customer_df['Cluster'] = # YOUR CODE HERE\n",
        "\n",
        "\n",
        "\n",
        "\n",
        "# Function to summarize cluster information with improved readability\n",
        "def summarize_cluster_info(clustered_df):\n",
        "    for i in range(kmeans.n_clusters):\n",
        "        cluster_data = clustered_df[clustered_df['Cluster'] == i]\n",
        "        # TASK 6: Print a summary of each cluster.\n",
        "        # Include customer count, average spend, top locations, and top items.\n",
        "        # YOUR CODE HERE\n",
        "\n",
        "# Call the function to display the summary\n",
        "summarize_cluster_info(customer_df)\n",
        "\n",
        "#TASK 7: Look at the results, write a report around what you would conclude\n",
        "# if you were working as the business owner or a close associate.\n",
        "\n",
        "\n",
        "\n"
      ],
      "metadata": {
        "id": "rManq6J2ZEol"
      },
      "execution_count": null,
      "outputs": []
    },
    {
      "cell_type": "markdown",
      "source": [
        "Skeleton Code Part 2\n"
      ],
      "metadata": {
        "id": "q81vNGgpV0jJ"
      }
    },
    {
      "cell_type": "code",
      "source": [
        "import pandas as pd\n",
        "from sklearn.preprocessing import StandardScaler\n",
        "from sklearn.cluster import DBSCAN\n",
        "import matplotlib.pyplot as plt\n",
        "\n",
        "# Load the data\n",
        "data_url = 'https://archive.ics.uci.edu/ml/machine-learning-databases/00352/Online%20Retail.xlsx'\n",
        "df = pd.read_excel(data_url)  # Modify if different method needed based on data format\n",
        "\n",
        "# Preprocess the data\n",
        "df['InvoiceDate'] = pd.to_datetime(df['InvoiceDate'])\n",
        "df['Total_Bill'] = df['Quantity'] * df['UnitPrice']\n",
        "# TASK 1: Aggregate data at the customer level to calculate 'Total_Bill_Size' and 'Purchase_Interval_Days'.\n",
        "# YOUR CODE HERE: Use groupby on 'CustomerID' and aggregate 'Total_Bill' and\n",
        "#'InvoiceDate' to compute the required metrics.\n",
        "\n",
        "\n",
        "\n",
        "\n",
        "\n",
        "# Normalize the features\n",
        "scaler = StandardScaler()\n",
        "# TASK 2: Standardize the 'Total_Bill_Size' and 'Purchase_Interval_Days' features using StandardScaler.\n",
        "# YOUR CODE HERE: Apply scaler.fit_transform to the appropriate DataFrame columns.\n",
        "\n",
        "# Apply DBSCAN\n",
        "# TASK 3: Initialize and fit the DBSCAN model with appropriate 'eps' and 'min_samples'.\n",
        "# YOUR CODE HERE: Example - dbscan = DBSCAN(eps=0.5, min_samples=5)\n",
        "clusters = dbscan.fit_predict(features)\n",
        "\n",
        "\n",
        "\n",
        "\n",
        "# Add clusters back to the dataframe\n",
        "customer_df['Cluster'] = clusters\n",
        "\n",
        "# Display clustering results\n",
        "print(\"Cluster counts:\")\n",
        "print(customer_df['Cluster'].value_counts())\n",
        "\n",
        "# Identify and display noise points\n",
        "# TASK 4: Identify noise points (marked as -1), and count them.\n",
        "# YOUR CODE HERE: Use DataFrame filtering to count the noise points.\n",
        "\n",
        "\n",
        "\n",
        "\n",
        "# Visualizing the results\n",
        "plt.scatter(features[:, 0], features[:, 1], c=clusters, cmap='viridis', marker='o')\n",
        "plt.title('DBSCAN Clustering')\n",
        "plt.xlabel('Scaled Total Bill Size')\n",
        "plt.ylabel('Scaled Purchase Interval Days')\n",
        "plt.colorbar(label='Cluster Label')\n",
        "plt.show()\n",
        "\n",
        "# Summary of results\n",
        "def summarize_clusters(df):\n",
        "    grouped = df.groupby('Cluster')\n",
        "    for key, group in grouped:\n",
        "        if key == -1:\n",
        "            continue  # Skip the noise points for detailed summary\n",
        "        print(f\"\\nCluster {key} Summary:\")\n",
        "        print(f\"Number of Customers: {len(group)}\")\n",
        "        avg_bill = group['Total_Bill_Size'].mean()\n",
        "        avg_interval = group['Purchase_Interval_Days'].mean()\n",
        "        print(f\"Average Total Bill: {avg_bill:.2f}\")\n",
        "        print(f\"Average Purchase Interval: {avg_interval:.2f}\")\n",
        "\n",
        "# Call the summary function\n",
        "summarize_clusters(customer_df)\n",
        "\n",
        "# TASK 5: Analyze the plot results and include a discussion in your final report.\n",
        "# YOUR CODE HERE: Discuss the distribution of clusters, any outliers identified, and potential reasons for the clustering pattern observed."
      ],
      "metadata": {
        "id": "YxTwoyP3XvEs"
      },
      "execution_count": null,
      "outputs": []
    }
  ]
}